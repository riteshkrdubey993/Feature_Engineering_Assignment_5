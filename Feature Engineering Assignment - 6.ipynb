{
 "cells": [
  {
   "cell_type": "markdown",
   "id": "5bfa4906-8884-4d0d-b332-0e456bd861c4",
   "metadata": {},
   "source": [
    "# Q1. Pearson correlation coefficient is a measure of the linear relationship between two variables. Suppose you have collected data on the amount of time students spend studying for an exam and their final exam scores. Calculate the Pearson correlation coefficient between these two variables and interpret the result."
   ]
  },
  {
   "cell_type": "markdown",
   "id": "8ac7d648-54bc-4c6a-8374-56e5d9fb21b5",
   "metadata": {},
   "source": [
    "The Pearson correlation coefficient (also known as Pearson's r or simply correlation coefficient) is a measure of the linear relationship between two continuous variables. It quantifies the strength and direction of the linear association between the variables. It ranges from -1 to 1:\n",
    "\n",
    "1. A value of 1 indicates a perfect positive linear relationship (as one variable increases, the other increases linearly).\n",
    "2. A value of -1 indicates a perfect negative linear relationship (as one variable increases, the other decreases linearly).\n",
    "3. A value of 0 indicates no linear relationship (the variables are not linearly related).\n",
    "\n",
    "To calculate the Pearson correlation coefficient between the amount of time students spend studying for an exam and their final exam scores, you can use the following formula:\n",
    "\n",
    "\n",
    "$r = \\frac{\\sum{(X_i - \\bar{X})(Y_i - \\bar{Y})}}{\\sqrt{\\sum{(X_i - \\bar{X})^2}\\sum{(Y_i - \\bar{Y})^2}}}$\n",
    "\n",
    "\n",
    "Where:\n",
    "\n",
    "1. r is the Pearson correlation coefficient.\n",
    "2. Xi and Yi are individual data points for the two variables.\n",
    "3. $ \\bar{X} $ and $ \\bar{Y}$ are the means (average values) of the two variables.\n",
    "4. The summation is done over all data points.\n",
    "\n",
    "\n",
    " \n",
    "Interpretation of the result:\n",
    "\n",
    "1. If the Pearson correlation coefficient (r) is close to 1, it suggests a strong positive linear relationship. In this context, it would mean that students who spend more time studying tend to have higher final exam scores.\n",
    "2. If r is close to -1, it indicates a strong negative linear relationship. It would imply that students who spend more time studying tend to have lower final exam scores.\n",
    "3. If r is close to 0, it suggests little to no linear relationship. In other words, there is no significant linear association between the time spent studying and the final exam scores."
   ]
  },
  {
   "cell_type": "markdown",
   "id": "240a24bb-2a1e-422e-a091-1d3c9c71ddbc",
   "metadata": {},
   "source": [
    "# Q2. Spearman's rank correlation is a measure of the monotonic relationship between two variables. Suppose you have collected data on the amount of sleep individuals get each night and their overall job satisfaction level on a scale of 1 to 10. Calculate the Spearman's rank correlation between these two variables and interpret the result."
   ]
  },
  {
   "cell_type": "markdown",
   "id": "a6ce50d9-3d72-4fc2-9b78-9aa19fc56ebd",
   "metadata": {},
   "source": [
    "Spearman's rank correlation coefficient (Spearman's rho, denoted as ρ) is a non-parametric measure of the monotonic relationship between two variables. It assesses whether there's a consistent increase or decrease in one variable as the other variable's values increase. Unlike Pearson's correlation coefficient, Spearman's rank correlation does not assume a linear relationship between the variables.\n",
    "\n",
    "To calculate Spearman's rank correlation between the amount of sleep individuals get each night and their overall job satisfaction level on a scale of 1 to 10, you'll follow these steps:\n",
    "\n",
    "1. Rank the values of both variables independently.\n",
    "2. Calculate the difference in ranks for each data point.\n",
    "3. Square the differences in ranks.\n",
    "4. Sum the squared differences.\n",
    "5. Use the formula to calculate Spearman's rank correlation:\n",
    "\n",
    "$\\rho = 1 - \\frac{6 \\sum{d^2}}{n(n^2 - 1)}$\n",
    "\n",
    "Where:\n",
    "\n",
    "ρ is Spearman's rank correlation coefficient.\n",
    "d is the difference in ranks for each data point.\n",
    "n is the number of data points.\n",
    "The interpretation of ρ is as follows:\n",
    "\n",
    "ρ=1 indicates a perfect monotonic positive relationship (all data points increase together).\n",
    "ρ=−1 indicates a perfect monotonic negative relationship (as one variable increases, the other decreases monotonically).\n",
    "ρ=0 indicates no monotonic relationship (there is no consistent monotonic trend between the variables).\n",
    "The value of ρ will fall between -1 and 1, and the closer it is to these extremes, the stronger the monotonic relationship."
   ]
  },
  {
   "cell_type": "code",
   "execution_count": 3,
   "id": "8e8210c1-0417-4cd2-856e-a7ced8c0671b",
   "metadata": {},
   "outputs": [
    {
     "name": "stdout",
     "output_type": "stream",
     "text": [
      "SpearmanrResult(correlation=0.9746794344808963, pvalue=0.004818230468198566)\n"
     ]
    }
   ],
   "source": [
    "from scipy.stats import spearmanr\n",
    "\n",
    "sleep = [6, 7, 5, 8, 6]\n",
    "job_satisfaction = [7, 8, 4, 9, 6]\n",
    "\n",
    "rho = spearmanr(sleep, job_satisfaction)\n",
    "print(rho)"
   ]
  },
  {
   "cell_type": "markdown",
   "id": "21b0f5dc-6d2a-4a90-ae86-28f87f18de71",
   "metadata": {},
   "source": [
    "Interpretation of the result:\n",
    "\n",
    "1. If ρ is close to 1, it suggests a strong positive monotonic relationship. In this context, it would mean that individuals who get more sleep tend to have higher job satisfaction levels.\n",
    "2. If ρ is close to -1, it indicates a strong negative monotonic relationship, implying that as individuals get more sleep, their job satisfaction levels decrease monotonically.\n",
    "3. If ρ is close to 0, it suggests no significant monotonic relationship between the amount of sleep and job satisfaction levels."
   ]
  },
  {
   "cell_type": "markdown",
   "id": "3b00ccee-4518-4cbf-954e-048c8d69d202",
   "metadata": {},
   "source": [
    "# Q3. Suppose you are conducting a study to examine the relationship between the number of hours of exercise per week and body mass index (BMI) in a sample of adults. You collected data on both variables for 50 participants. Calculate the Pearson correlation coefficient and the Spearman's rank correlation between these two variables and compare the results."
   ]
  },
  {
   "cell_type": "code",
   "execution_count": 11,
   "id": "8c465db3-96b5-4fa0-bf41-6e1bd9e7946c",
   "metadata": {},
   "outputs": [
    {
     "name": "stdout",
     "output_type": "stream",
     "text": [
      "SpearmanrResult(correlation=-0.9650081148318874, pvalue=2.1960047890570275e-28)\n",
      "PearsonRResult(statistic=-0.9429201996226791, pvalue=1.337102892158375e-23)\n"
     ]
    }
   ],
   "source": [
    "import numpy as np\n",
    "from scipy.stats import spearmanr, pearsonr\n",
    "\n",
    "exercise_hours = [3, 5, 2, 6, 4, 3, 7, 1, 2, 5, 6, 3, 4, 2, 1, 5, 6, 7, 4, 3,\n",
    "                  2, 5, 6, 3, 4, 2, 1, 5, 6, 3, 4, 2, 1, 5, 6, 3, 4, 2, 1, 5,\n",
    "                  6, 3, 4, 2, 1, 5, 6, 3]\n",
    "bmi = [25.3, 24.5, 27.8, 23.4, 26.1, 29.5, 22.7, 31.2, 28.4, 24.9, 23.1, 27.6,\n",
    "       26.2, 29.8, 32.5, 24.7, 23.5, 22.9, 26.8, 28.7, 27.3, 25.0, 23.7, 27.2,\n",
    "       26.9, 30.1, 33.0, 24.8, 23.9, 27.4, 26.5, 31.9, 33.4, 24.2, 23.3, 28.0,\n",
    "       26.7, 29.9, 32.1, 25.8, 23.6, 27.1, 26.3, 31.6, 32.9, 25.6, 23.8, 28.2]\n",
    "\n",
    "spearman = spearmanr(exercise_hours, bmi)\n",
    "pearson = pearsonr(exercise_hours, bmi)\n",
    "\n",
    "print(spearman)\n",
    "print(pearson)"
   ]
  },
  {
   "cell_type": "markdown",
   "id": "404c1744-4f5a-4c89-bd6f-c90e239a6c35",
   "metadata": {},
   "source": [
    "Interpretation and Comparison:\n",
    "\n",
    "1. The Pearson correlation coefficient measures the linear relationship between the variables. If pearson_corr is close to 1, it indicates a strong positive linear relationship. If close to -1, it indicates a strong negative linear relationship. If close to 0, it suggests little or no linear relationship.\n",
    "2. Spearman's rank correlation assesses the monotonic relationship between the variables. It is less sensitive to outliers and non-linear relationships. If spearman_corr is close to 1 or -1, it suggests a strong monotonic relationship. If close to 0, it suggests little or no monotonic relationship."
   ]
  },
  {
   "cell_type": "markdown",
   "id": "12facc4d-ce7c-4f14-833c-19f66d46a572",
   "metadata": {},
   "source": [
    "# Q4. A researcher is interested in examining the relationship between the number of hours individuals spend watching television per day and their level of physical activity. The researcher collected data on both variables from a sample of 50 participants. Calculate the Pearson correlation coefficient between Interpretation and Comparison:"
   ]
  },
  {
   "cell_type": "code",
   "execution_count": 17,
   "id": "039b186c-ea78-4016-89d0-74bca5648013",
   "metadata": {},
   "outputs": [
    {
     "name": "stdout",
     "output_type": "stream",
     "text": [
      "Pearson correlation coefficient: PearsonRResult(statistic=-0.7896070440565262, pvalue=2.5622716174560395e-11)\n"
     ]
    }
   ],
   "source": [
    "import numpy as np\n",
    "from scipy.stats import pearsonr\n",
    "\n",
    "tv_hours = [2.5, 3.0, 4.5, 2.0, 5.5, 1.5, 3.5, 2.0, 4.0, 2.5,\n",
    "            3.0, 1.0, 5.0, 2.5, 3.5, 2.0, 4.5, 1.5, 3.0, 2.0,\n",
    "            4.0, 2.5, 3.0, 2.0, 5.0, 1.5, 3.5, 2.0, 4.0, 2.5,\n",
    "            3.0, 2.0, 4.5, 1.5, 3.0, 2.0, 5.0, 1.5, 3.5, 2.0,\n",
    "            4.0, 2.5, 3.0, 2.0, 4.5, 1.5, 3.0, 2.0]\n",
    "\n",
    "physical_activity_level = [3, 4, 2, 5, 1, 4, 2, 5, 3, 4,\n",
    "                           2, 5, 1, 4, 2, 5, 3, 4, 2, 5,\n",
    "                           1, 4, 2, 5, 3, 4, 2, 5, 1, 4,\n",
    "                           2, 5, 3, 4, 2, 5, 1, 4, 2, 5,\n",
    "                           3, 4, 2, 5, 1, 4, 2, 5]\n",
    "\n",
    "pearson_relation = pearsonr(tv_hours, physical_activity_level)\n",
    "print(\"Pearson correlation coefficient:\",pearson_relation)"
   ]
  },
  {
   "cell_type": "markdown",
   "id": "553d1b37-5d5d-4986-b676-71cdf465a210",
   "metadata": {},
   "source": [
    "# Q5. A survey was conducted to examine the relationship between age and preference for a particular brand of soft drink. The survey results are shown below:"
   ]
  },
  {
   "cell_type": "raw",
   "id": "9c0e5245-1b03-4a1d-b697-0b5d4b9b4ec4",
   "metadata": {},
   "source": [
    "Age(Years)     Soft drink Preference\n",
    "    25                 Coke\n",
    "    42                 Pepsi\n",
    "    37                 Mountain dew\n",
    "    19                 Coke\n",
    "    31                 Pepsi\n",
    "    28                 Coke"
   ]
  },
  {
   "cell_type": "code",
   "execution_count": 64,
   "id": "5fc50079-c351-4446-bf13-4f7501c82a00",
   "metadata": {},
   "outputs": [
    {
     "name": "stdout",
     "output_type": "stream",
     "text": [
      "                       Age(Years)\n",
      "Soft drink Preference            \n",
      "Coke                         24.0\n",
      "Mountain Dew                 37.0\n",
      "Pepsi                        36.5\n"
     ]
    },
    {
     "data": {
      "image/png": "[encoded data removed]",
      "text/plain": [
       "<Figure size 640x480 with 1 Axes>"
      ]
     },
     "metadata": {},
     "output_type": "display_data"
    }
   ],
   "source": [
    "mean_age = df.groupby('Soft drink Preference').mean()\n",
    "print(mean_age)\n",
    "sns.barplot(df, x = 'Age(Years)', y  = 'Soft drink Preference' )\n",
    "plt.show()"
   ]
  },
  {
   "cell_type": "code",
   "execution_count": 61,
   "id": "cd420d5c-a1fc-462c-8074-98d7e544e252",
   "metadata": {},
   "outputs": [
    {
     "name": "stdout",
     "output_type": "stream",
     "text": [
      "   Age(Years)  Soft drink Preference_Coke  Soft drink Preference_Mountain Dew  \\\n",
      "0          25                         1.0                                 0.0   \n",
      "1          42                         0.0                                 0.0   \n",
      "2          37                         0.0                                 1.0   \n",
      "3          19                         1.0                                 0.0   \n",
      "4          31                         0.0                                 0.0   \n",
      "5          28                         1.0                                 0.0   \n",
      "\n",
      "   Soft drink Preference_Pepsi  \n",
      "0                          0.0  \n",
      "1                          1.0  \n",
      "2                          0.0  \n",
      "3                          0.0  \n",
      "4                          1.0  \n",
      "5                          0.0  \n"
     ]
    },
    {
     "name": "stderr",
     "output_type": "stream",
     "text": [
      "/opt/conda/lib/python3.10/site-packages/sklearn/preprocessing/_encoders.py:808: FutureWarning: `sparse` was renamed to `sparse_output` in version 1.2 and will be removed in 1.4. `sparse_output` is ignored unless you leave `sparse` to its default value.\n",
      "  warnings.warn(\n"
     ]
    }
   ],
   "source": [
    "import pandas as pd\n",
    "import seaborn as sns\n",
    "import matplotlib.pyplot as plt\n",
    "from sklearn.preprocessing import OneHotEncoder\n",
    "\n",
    "data = {\n",
    "    'Age(Years)': [25, 42, 37, 19, 31, 28],\n",
    "    'Soft drink Preference': ['Coke', 'Pepsi', 'Mountain Dew', 'Coke', 'Pepsi', 'Coke']\n",
    "}\n",
    "\n",
    "df = pd.DataFrame(data)\n",
    "\n",
    "encoder = OneHotEncoder(sparse=False)\n",
    "\n",
    "soft_drink_encoded = encoder.fit_transform(df[['Soft drink Preference']])\n",
    "\n",
    "soft_drink_df = pd.DataFrame(soft_drink_encoded, columns=encoder.get_feature_names_out(['Soft drink Preference']))\n",
    "\n",
    "df_encoded = pd.concat([df, soft_drink_df], axis=1)\n",
    "\n",
    "df_encoded.drop(['Soft drink Preference'], axis=1, inplace=True)\n",
    "\n",
    "print(df_encoded)\n"
   ]
  },
  {
   "cell_type": "code",
   "execution_count": null,
   "id": "4e953a6e-e512-4b57-ac11-5c50f0dc0c4d",
   "metadata": {},
   "outputs": [],
   "source": []
  },
  {
   "cell_type": "markdown",
   "id": "06815191-6340-4e27-a0e9-28a9f39b8d39",
   "metadata": {},
   "source": [
    "# Q6. A company is interested in examining the relationship between the number of sales calls made per day and the number of sales made per week. The company collected data on both variables from a sample of 30 sales representatives. Calculate the Pearson correlation coefficient between these two variables."
   ]
  },
  {
   "cell_type": "code",
   "execution_count": 53,
   "id": "18daf88f-a862-4fd3-bf51-08179d77b626",
   "metadata": {},
   "outputs": [
    {
     "name": "stdout",
     "output_type": "stream",
     "text": [
      "Pearson correlation coefficient: PearsonRResult(statistic=0.9999999999999999, pvalue=1.0583940658398012e-220)\n"
     ]
    }
   ],
   "source": [
    "import numpy as np\n",
    "from scipy.stats import pearsonr\n",
    "\n",
    "# Sample data (replace with your actual data)\n",
    "sales_calls_per_day = [12, 10, 14, 15, 9, 13, 11, 12, 14, 16, 15, 13, 11, 10, 12, 14, 16, 17, 18, 15, 13, 12, 11, 14, 15, 16, 17, 18, 15, 13]\n",
    "sales_per_week = [80, 70, 90, 95, 65, 85, 75, 80, 90, 100, 95, 85, 75, 70, 80, 90, 100, 105, 110, 95, 85, 80, 75, 90, 95, 100, 105, 110, 95, 85]\n",
    "\n",
    "pearson_corr = pearsonr(sales_calls_per_day, sales_per_week)\n",
    "\n",
    "print(\"Pearson correlation coefficient:\", pearson_corr)"
   ]
  },
  {
   "cell_type": "code",
   "execution_count": null,
   "id": "b09144de-2f58-4351-b1d8-efadeda0bddc",
   "metadata": {},
   "outputs": [],
   "source": []
  }
 ],
 "metadata": {
  "kernelspec": {
   "display_name": "Python 3 (ipykernel)",
   "language": "python",
   "name": "python3"
  },
  "language_info": {
   "codemirror_mode": {
    "name": "ipython",
    "version": 3
   },
   "file_extension": ".py",
   "mimetype": "text/x-python",
   "name": "python",
   "nbconvert_exporter": "python",
   "pygments_lexer": "ipython3",
   "version": "3.10.8"
  }
 },
 "nbformat": 4,
 "nbformat_minor": 5
}
